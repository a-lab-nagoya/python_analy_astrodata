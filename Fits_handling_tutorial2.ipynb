{
 "cells": [
  {
   "cell_type": "markdown",
   "metadata": {},
   "source": [
    "# FITSをカットしてみよう\n",
    "\n",
    "　広い領域のfitsからある領域を切り出し, 新しいfitsにして保存してみよう"
   ]
  },
  {
   "cell_type": "code",
   "execution_count": 6,
   "metadata": {},
   "outputs": [],
   "source": [
    "import numpy as np\n",
    "import astropy.io.fits as fits\n",
    "import matplotlib.pyplot as plt\n",
    "from spectral_cube import SpectralCube as sc\n",
    "import aplpy\n",
    "import astropy.units as u\n",
    "from jupyter_io import savefig_in_notebook\n",
    "\n",
    "from astropy.wcs import WCS as WCS"
   ]
  },
  {
   "cell_type": "code",
   "execution_count": 7,
   "metadata": {},
   "outputs": [],
   "source": [
    "hdu = fits.open('/home/amigos/r_yamada/ymdfits/W3_analy_shell.fits')[0]\n",
    "data = hdu.data\n",
    "header = hdu.header\n",
    "\n",
    "# world coordinate objectの作成\n",
    "\n",
    "wcs = WCS(hdu)"
   ]
  },
  {
   "cell_type": "code",
   "execution_count": 9,
   "metadata": {},
   "outputs": [],
   "source": [
    "# pix to coord conversion\n",
    "\n",
    "x, y, z = wcs.wcs_world2pix(133.7,1.2,-30,0)"
   ]
  },
  {
   "cell_type": "code",
   "execution_count": 10,
   "metadata": {},
   "outputs": [
    {
     "name": "stdout",
     "output_type": "stream",
     "text": [
      "107.95656990005352 72.99997951456095 139.94\n"
     ]
    }
   ],
   "source": [
    "print(x, y, z)"
   ]
  },
  {
   "cell_type": "markdown",
   "metadata": {},
   "source": [
    "# 問題\n",
    "\n",
    "1. 毎回x, y, z = wcs.wcs_world2pix(133.7,1.2,-30,0)を書くのはめんどくさいので, (l, b, v)を与えたら(x, y, z)を計算する関数を作ってみよう"
   ]
  },
  {
   "cell_type": "markdown",
   "metadata": {},
   "source": [
    "# 練習問題　\n",
    "\n",
    "1. 読み込んでいるfitsのl=133.6 to l=134.0, b=1.0 to 1.4までを切り出したfitsを作って保存してみよう\n",
    "2. 作成したfitsで, 速度範囲が-50km/s to -42km/sの積分強度図と-37km/s to -25km/sの積分強度図を作り, 並べて表示してみよう\n",
    "3. -55km/s to -33km/sの速度範囲で積分強度図, 1次モーメントマップ, 2次モーメントマップを作成し, 3つ並べて表示してみよう"
   ]
  },
  {
   "cell_type": "code",
   "execution_count": null,
   "metadata": {},
   "outputs": [],
   "source": []
  }
 ],
 "metadata": {
  "kernelspec": {
   "display_name": "Python 3",
   "language": "python",
   "name": "python3"
  },
  "language_info": {
   "codemirror_mode": {
    "name": "ipython",
    "version": 3
   },
   "file_extension": ".py",
   "mimetype": "text/x-python",
   "name": "python",
   "nbconvert_exporter": "python",
   "pygments_lexer": "ipython3",
   "version": "3.7.0"
  }
 },
 "nbformat": 4,
 "nbformat_minor": 4
}
